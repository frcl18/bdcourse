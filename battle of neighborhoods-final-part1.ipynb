{
 "cells": [
  {
   "cell_type": "markdown",
   "metadata": {},
   "source": [
    "# The problem"
   ]
  },
  {
   "cell_type": "markdown",
   "metadata": {},
   "source": [
    "Break and enter crime become a nighmare for commercials in Toronto. Criminals know how to get into and nothing can stop them.\n",
    "\n",
    "A security technology company has developed a new kind of security doors and  surveillance system that will can avoid that kind of crime in Toronto. The company wants to focus on commercial located in neighborhoods that have presented breaking and entering in 2019, that information is part of tha market study. The study need information from the last year in order to know the neighborhoods where occur that kind of crime.\n",
    "\n",
    "Police departent have a lot of information abour crimes in Toronto.  In this problem, We will use crime data and foursquare´s data in order to design a comercial plan."
   ]
  },
  {
   "cell_type": "markdown",
   "metadata": {},
   "source": [
    "# Information source"
   ]
  },
  {
   "cell_type": "markdown",
   "metadata": {},
   "source": [
    "- Toronto police open data about crimes: https://data.torontopolice.on.ca/pages/catalogue\n",
    "- Location and kind of potential customers in Toronto: Foursquare API"
   ]
  },
  {
   "cell_type": "markdown",
   "metadata": {},
   "source": [
    "# Data"
   ]
  },
  {
   "cell_type": "markdown",
   "metadata": {},
   "source": [
    "## Totonto Police - Break and enter dataset "
   ]
  },
  {
   "cell_type": "markdown",
   "metadata": {},
   "source": [
    "This dataset have the following data:\n",
    "\n",
    "- Index, Record Unique Identifier,1\n",
    "- event_unique_id, Event Unique Identifier,2\n",
    "- occurrencedate, Date of occurrence,3\n",
    "- reporteddate, Date occurrence was reported,4\n",
    "- premisetype, Premise where occurrence took place,5\n",
    "- ucr_code, URC Code,6\n",
    "- ucr_ext, URC Code Extension,7\n",
    "- offence, Offence related to the occurrence,8\n",
    "- reportedyear, Year occurrence was reported,9\n",
    "- reportedmonth, Month occurrence was reported,10\n",
    "- reportedday, Day occurrence was reported,11\n",
    "- reporteddayofyear, Day of week occurrence was reported,12\n",
    "- reporteddayofweek, Day of year Occurrence was reported,13\n",
    "- reportedhour, Hour occurrence was reported,14\n",
    "- occurrenceyear, Occurrence year,15\n",
    "- occurrencemonth, Occurrence month,16\n",
    "- occurrenceday, Occurrence day,17\n",
    "- occurrencedayofyear, Occurrence day of year,18\n",
    "- occurrencedayofweek, Occurrence day of week,19\n",
    "- occurrencehour, Occurrence hour,20\n",
    "- MCI, Major Crime Indicator related to the offence,21\n",
    "- Division, Division where event occurred,22\n",
    "- Hood_ID, Neighbourhood Name,23\n",
    "- Neighbourhood, Neighbourhood Identificator,24\n",
    "- Long, Longitude of point extracted after offsetting X and & Coordinates to nearest intersection node,25\n",
    "- Lat, Latitude of point extracted after offsetting X and & Coordinates to nearest intersection node,26"
   ]
  },
  {
   "cell_type": "markdown",
   "metadata": {},
   "source": [
    "## Foursquare dataset \n",
    "\n",
    "This dataset have the information about venues. It will be usefull to know potential customers. "
   ]
  },
  {
   "cell_type": "markdown",
   "metadata": {},
   "source": [
    "# Metodology\n",
    "\n",
    "1. First we get the data from Toronto Police Deparment and filtered in order to have only data of 2019 and crimes related with break and enter to commercials.\n",
    "2. Analyze and rank Toronto neighborhoods based on reported crimes\n",
    "3. Join data in order to know potential customers"
   ]
  },
  {
   "cell_type": "code",
   "execution_count": null,
   "metadata": {},
   "outputs": [],
   "source": []
  }
 ],
 "metadata": {
  "kernelspec": {
   "display_name": "Python 3",
   "language": "python",
   "name": "python3"
  },
  "language_info": {
   "codemirror_mode": {
    "name": "ipython",
    "version": 3
   },
   "file_extension": ".py",
   "mimetype": "text/x-python",
   "name": "python",
   "nbconvert_exporter": "python",
   "pygments_lexer": "ipython3",
   "version": "3.8.3"
  }
 },
 "nbformat": 4,
 "nbformat_minor": 4
}
